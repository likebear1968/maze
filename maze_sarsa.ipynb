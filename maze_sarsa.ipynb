{
 "cells": [
  {
   "cell_type": "code",
   "execution_count": null,
   "metadata": {},
   "outputs": [],
   "source": [
    "import numpy as np\n",
    "from board import Board\n",
    "from quantity import Sarsa\n",
    "from player import QTYPE, PFactory\n",
    "%matplotlib inline"
   ]
  },
  {
   "cell_type": "code",
   "execution_count": null,
   "metadata": {},
   "outputs": [],
   "source": [
    "b = Board()\n",
    "q = Sarsa()\n",
    "p = PFactory(QTYPE.SARSA).create()"
   ]
  },
  {
   "cell_type": "code",
   "execution_count": null,
   "metadata": {},
   "outputs": [],
   "source": [
    "# Sarsaで迷路を解く\n",
    "q.init_quantity(alpha=1)\n",
    "episode = 1000\n",
    "start = 0\n",
    "while episode > 0:\n",
    "    history = p.play(q, start)\n",
    "    q.epsilon /= 2\n",
    "    episode -= 1\n",
    "#print(history)\n",
    "b.play_movie(history)"
   ]
  }
 ],
 "metadata": {
  "kernelspec": {
   "display_name": "Python 3",
   "language": "python",
   "name": "python3"
  },
  "language_info": {
   "codemirror_mode": {
    "name": "ipython",
    "version": 3
   },
   "file_extension": ".py",
   "mimetype": "text/x-python",
   "name": "python",
   "nbconvert_exporter": "python",
   "pygments_lexer": "ipython3",
   "version": "3.7.3"
  }
 },
 "nbformat": 4,
 "nbformat_minor": 2
}
